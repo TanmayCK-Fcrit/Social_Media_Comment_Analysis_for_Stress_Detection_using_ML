{
 "cells": [
  {
   "cell_type": "code",
   "execution_count": 56,
   "id": "c74d7be6",
   "metadata": {},
   "outputs": [
    {
     "name": "stderr",
     "output_type": "stream",
     "text": [
      "[nltk_data] Downloading package stopwords to\n",
      "[nltk_data]     C:\\Users\\tanma\\AppData\\Roaming\\nltk_data...\n",
      "[nltk_data]   Package stopwords is already up-to-date!\n"
     ]
    }
   ],
   "source": [
    "import pandas as pd\n",
    "import numpy as np\n",
    "import nltk\n",
    "import re\n",
    "\n",
    "\n",
    "nltk.download('stopwords')\n",
    "stemmer = nltk.SnowballStemmer(\"english\")\n",
    "stopword = set(stopwords.words('english'))\n"
   ]
  },
  {
   "cell_type": "code",
   "execution_count": 57,
   "id": "7224ca77",
   "metadata": {},
   "outputs": [],
   "source": [
    "data = pd.read_csv(r\"C:\\Users\\tanma\\anaconda3\\ML_Projects\\Mini_Project_Sem_6\\Stress-Detection-Using-Machine-Learning\\new_stress.csv\")"
   ]
  },
  {
   "cell_type": "code",
   "execution_count": 53,
   "id": "9a53cbcc",
   "metadata": {},
   "outputs": [],
   "source": [
    "def clean(text):\n",
    "    text = str(text).lower()\n",
    "    text = re.sub('\\[.*?\\]', '', text)\n",
    "    text = re.sub('https?://\\S+|www\\.\\S+', '', text)\n",
    "    text = re.sub('<.*?>+', '', text)\n",
    "    text = re.sub('[%s]' % re.escape(string.punctuation), '', text)\n",
    "    text = re.sub('\\n', '', text)\n",
    "    text = re.sub('\\w*\\d\\w*', '', text)\n",
    "    text = [word for word in text.split(' ') if word not in stopword]\n",
    "    text = \" \".join(text)\n",
    "    text = [stemmer.stem(word) for word in text.split(' ')]\n",
    "    text = \" \".join(text)\n",
    "    return text\n",
    "data['text'] = data['text'].apply(clean)"
   ]
  },
  {
   "cell_type": "code",
   "execution_count": 58,
   "id": "c60883e0",
   "metadata": {},
   "outputs": [
    {
     "data": {
      "text/plain": [
       "0       He said he had not felt that way before, sugge...\n",
       "1       Hey there r/assistance, Not sure if this is th...\n",
       "2       My mom then hit me with the newspaper and it s...\n",
       "3       until i met my new boyfriend, he is amazing, h...\n",
       "4       October is Domestic Violence Awareness Month a...\n",
       "                              ...                        \n",
       "2833    * Her, a week ago: Precious, how are you? (I i...\n",
       "2834    I don't have the ability to cope with it anymo...\n",
       "2835    In case this is the first time you're reading ...\n",
       "2836    Do you find this normal? They have a good rela...\n",
       "2837    I was talking to my mom this morning and she s...\n",
       "Name: text, Length: 2838, dtype: object"
      ]
     },
     "execution_count": 58,
     "metadata": {},
     "output_type": "execute_result"
    }
   ],
   "source": [
    "data['text']"
   ]
  },
  {
   "cell_type": "code",
   "execution_count": 41,
   "id": "d0923cce",
   "metadata": {},
   "outputs": [],
   "source": [
    "data['text'] = data['text'].apply(clean)"
   ]
  },
  {
   "cell_type": "code",
   "execution_count": 42,
   "id": "a7b8aa12",
   "metadata": {},
   "outputs": [
    {
     "data": {
      "text/plain": [
       "0       he said he had not felt that way before, sugge...\n",
       "1       hey there r/assistance, not sure if this is th...\n",
       "2       my mom then hit me with the newspaper and it s...\n",
       "3       until i met my new boyfriend, he is amazing, h...\n",
       "4       october is domestic violence awareness month a...\n",
       "                              ...                        \n",
       "2833    * her, a week ago: precious, how are you? (i i...\n",
       "2834    i don't have the ability to cope with it anymo...\n",
       "2835    in case this is the first time you're reading ...\n",
       "2836    do you find this normal? they have a good rela...\n",
       "2837    i was talking to my mom this morning and she s...\n",
       "Name: text, Length: 2838, dtype: object"
      ]
     },
     "execution_count": 42,
     "metadata": {},
     "output_type": "execute_result"
    }
   ],
   "source": [
    "data['text']"
   ]
  },
  {
   "cell_type": "code",
   "execution_count": 44,
   "id": "d197c7a2",
   "metadata": {},
   "outputs": [
    {
     "data": {
      "text/plain": [
       "0       he said he had not felt that way before, sugge...\n",
       "1       hey there r/assistance, not sure if this is th...\n",
       "2       my mom then hit me with the newspaper and it s...\n",
       "3       until i met my new boyfriend, he is amazing, h...\n",
       "4       october is domestic violence awareness month a...\n",
       "                              ...                        \n",
       "2833    * her, a week ago: precious, how are you? (i i...\n",
       "2834    i don't have the ability to cope with it anymo...\n",
       "2835    in case this is the first time you're reading ...\n",
       "2836    do you find this normal? they have a good rela...\n",
       "2837    i was talking to my mom this morning and she s...\n",
       "Name: text, Length: 2838, dtype: object"
      ]
     },
     "execution_count": 44,
     "metadata": {},
     "output_type": "execute_result"
    }
   ],
   "source": [
    "data['text']"
   ]
  },
  {
   "cell_type": "code",
   "execution_count": 46,
   "id": "7c9f8f4a",
   "metadata": {},
   "outputs": [
    {
     "data": {
      "text/plain": [
       "0       he said he had not felt that way before sugget...\n",
       "1       hey there rassistance not sure if this is the ...\n",
       "2       my mom then hit me with the newspaper and it s...\n",
       "3       until i met my new boyfriend he is amazing he ...\n",
       "4       october is domestic violence awareness month a...\n",
       "                              ...                        \n",
       "2833     her a week ago precious how are you i ignored...\n",
       "2834    i dont have the ability to cope with it anymor...\n",
       "2835    in case this is the first time youre reading t...\n",
       "2836    do you find this normal they have a good relat...\n",
       "2837    i was talking to my mom this morning and she s...\n",
       "Name: text, Length: 2838, dtype: object"
      ]
     },
     "execution_count": 46,
     "metadata": {},
     "output_type": "execute_result"
    }
   ],
   "source": [
    "data['text']"
   ]
  },
  {
   "cell_type": "code",
   "execution_count": 48,
   "id": "edc723ae",
   "metadata": {},
   "outputs": [
    {
     "data": {
      "text/plain": [
       "0       [said, felt, way, suggeted, go, rest, trigger,...\n",
       "1       [hey, rassistance, sure, right, place, post, g...\n",
       "2       [mom, hit, newspaper, shocked, would, knows, d...\n",
       "3       [met, new, boyfriend, amazing, kind, sweet, go...\n",
       "4       [october, domestic, violence, awareness, month...\n",
       "                              ...                        \n",
       "2833    [, week, ago, precious, ignored, , jan, , happ...\n",
       "2834    [dont, ability, cope, anymore, im, trying, lot...\n",
       "2835    [case, first, time, youre, reading, post, look...\n",
       "2836    [find, normal, good, relationship, main, probl...\n",
       "2837    [talking, mom, morning, said, sister, trauma, ...\n",
       "Name: text, Length: 2838, dtype: object"
      ]
     },
     "execution_count": 48,
     "metadata": {},
     "output_type": "execute_result"
    }
   ],
   "source": [
    "data['text']"
   ]
  },
  {
   "cell_type": "code",
   "execution_count": 50,
   "id": "846768f2",
   "metadata": {},
   "outputs": [
    {
     "data": {
      "text/plain": [
       "0       said felt way suggeted go rest trigger ahead y...\n",
       "1       hey rassistance sure right place post goes  im...\n",
       "2       mom hit newspaper shocked would knows dont lik...\n",
       "3       met new boyfriend amazing kind sweet good stud...\n",
       "4       october domestic violence awareness month dome...\n",
       "                              ...                        \n",
       "2833     week ago precious ignored  jan  happy year pr...\n",
       "2834    dont ability cope anymore im trying lot things...\n",
       "2835    case first time youre reading post looking peo...\n",
       "2836    find normal good relationship main problem see...\n",
       "2837    talking mom morning said sister trauma worse m...\n",
       "Name: text, Length: 2838, dtype: object"
      ]
     },
     "execution_count": 50,
     "metadata": {},
     "output_type": "execute_result"
    }
   ],
   "source": [
    "data['text']"
   ]
  },
  {
   "cell_type": "code",
   "execution_count": 52,
   "id": "a6f9dee1",
   "metadata": {},
   "outputs": [
    {
     "data": {
      "text/plain": [
       "0       [said, felt, way, sugget, go, rest, trigger, a...\n",
       "1       [hey, rassist, sure, right, place, post, goe, ...\n",
       "2       [mom, hit, newspap, shock, would, know, dont, ...\n",
       "3       [met, new, boyfriend, amaz, kind, sweet, good,...\n",
       "4       [octob, domest, violenc, awar, month, domest, ...\n",
       "                              ...                        \n",
       "2833    [, week, ago, precious, ignor, , jan, , happi,...\n",
       "2834    [dont, abil, cope, anymor, im, tri, lot, thing...\n",
       "2835    [case, first, time, your, read, post, look, pe...\n",
       "2836    [find, normal, good, relationship, main, probl...\n",
       "2837    [talk, mom, morn, said, sister, trauma, wors, ...\n",
       "Name: text, Length: 2838, dtype: object"
      ]
     },
     "execution_count": 52,
     "metadata": {},
     "output_type": "execute_result"
    }
   ],
   "source": [
    "data['text']"
   ]
  },
  {
   "cell_type": "code",
   "execution_count": 54,
   "id": "ac08603d",
   "metadata": {},
   "outputs": [
    {
     "data": {
      "text/plain": [
       "0       said felt way sugget go rest trigger ahead you...\n",
       "1       hey rassist sure right place post goe  im curr...\n",
       "2       mom hit newspap shock would know dont like pla...\n",
       "3       met new boyfriend amaz kind sweet good student...\n",
       "4       octob domest violenc awar month domest violenc...\n",
       "                              ...                        \n",
       "2833     week ago precious ignor  jan  happi year prec...\n",
       "2834    dont abil cope anymor im tri lot thing trigger...\n",
       "2835    case first time your read post look peopl will...\n",
       "2836    find normal good relationship main problem see...\n",
       "2837    talk mom morn said sister trauma wors mine did...\n",
       "Name: text, Length: 2838, dtype: object"
      ]
     },
     "execution_count": 54,
     "metadata": {},
     "output_type": "execute_result"
    }
   ],
   "source": [
    "data['text']"
   ]
  },
  {
   "cell_type": "code",
   "execution_count": 59,
   "id": "ab787941",
   "metadata": {},
   "outputs": [
    {
     "data": {
      "text/html": [
       "<div>\n",
       "<style scoped>\n",
       "    .dataframe tbody tr th:only-of-type {\n",
       "        vertical-align: middle;\n",
       "    }\n",
       "\n",
       "    .dataframe tbody tr th {\n",
       "        vertical-align: top;\n",
       "    }\n",
       "\n",
       "    .dataframe thead th {\n",
       "        text-align: right;\n",
       "    }\n",
       "</style>\n",
       "<table border=\"1\" class=\"dataframe\">\n",
       "  <thead>\n",
       "    <tr style=\"text-align: right;\">\n",
       "      <th></th>\n",
       "      <th>text</th>\n",
       "      <th>label</th>\n",
       "    </tr>\n",
       "  </thead>\n",
       "  <tbody>\n",
       "    <tr>\n",
       "      <th>0</th>\n",
       "      <td>He said he had not felt that way before, sugge...</td>\n",
       "      <td>1</td>\n",
       "    </tr>\n",
       "    <tr>\n",
       "      <th>1</th>\n",
       "      <td>Hey there r/assistance, Not sure if this is th...</td>\n",
       "      <td>0</td>\n",
       "    </tr>\n",
       "    <tr>\n",
       "      <th>2</th>\n",
       "      <td>My mom then hit me with the newspaper and it s...</td>\n",
       "      <td>1</td>\n",
       "    </tr>\n",
       "    <tr>\n",
       "      <th>3</th>\n",
       "      <td>until i met my new boyfriend, he is amazing, h...</td>\n",
       "      <td>1</td>\n",
       "    </tr>\n",
       "    <tr>\n",
       "      <th>4</th>\n",
       "      <td>October is Domestic Violence Awareness Month a...</td>\n",
       "      <td>1</td>\n",
       "    </tr>\n",
       "  </tbody>\n",
       "</table>\n",
       "</div>"
      ],
      "text/plain": [
       "                                                text  label\n",
       "0  He said he had not felt that way before, sugge...      1\n",
       "1  Hey there r/assistance, Not sure if this is th...      0\n",
       "2  My mom then hit me with the newspaper and it s...      1\n",
       "3  until i met my new boyfriend, he is amazing, h...      1\n",
       "4  October is Domestic Violence Awareness Month a...      1"
      ]
     },
     "execution_count": 59,
     "metadata": {},
     "output_type": "execute_result"
    }
   ],
   "source": [
    "data.head()"
   ]
  },
  {
   "cell_type": "code",
   "execution_count": 62,
   "id": "8d376fb1",
   "metadata": {},
   "outputs": [
    {
     "data": {
      "text/plain": [
       "Index(['text', 'label'], dtype='object')"
      ]
     },
     "execution_count": 62,
     "metadata": {},
     "output_type": "execute_result"
    }
   ],
   "source": [
    "data.columns"
   ]
  },
  {
   "cell_type": "code",
   "execution_count": null,
   "id": "47395ff1",
   "metadata": {},
   "outputs": [],
   "source": []
  }
 ],
 "metadata": {
  "kernelspec": {
   "display_name": "Python 3 (ipykernel)",
   "language": "python",
   "name": "python3"
  },
  "language_info": {
   "codemirror_mode": {
    "name": "ipython",
    "version": 3
   },
   "file_extension": ".py",
   "mimetype": "text/x-python",
   "name": "python",
   "nbconvert_exporter": "python",
   "pygments_lexer": "ipython3",
   "version": "3.11.5"
  }
 },
 "nbformat": 4,
 "nbformat_minor": 5
}
